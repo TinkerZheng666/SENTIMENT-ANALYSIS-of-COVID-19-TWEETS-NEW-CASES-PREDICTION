{
 "cells": [
  {
   "cell_type": "markdown",
   "metadata": {},
   "source": [
    "# FRE 7871: Project"
   ]
  },
  {
   "cell_type": "markdown",
   "metadata": {},
   "source": [
    "## 1. Preprocessing"
   ]
  },
  {
   "cell_type": "markdown",
   "metadata": {},
   "source": [
    "### 1.1 import the data"
   ]
  },
  {
   "cell_type": "code",
   "execution_count": 3,
   "metadata": {
    "ExecuteTime": {
     "end_time": "2020-10-19T15:09:29.552193Z",
     "start_time": "2020-10-19T15:09:22.267123Z"
    }
   },
   "outputs": [],
   "source": [
    "import nltk\n",
    "import re\n",
    "import math\n",
    "import string\n",
    "from sklearn.metrics import confusion_matrix\n",
    "import scipy.sparse as sparse\n",
    "import pandas as pd\n",
    "import numpy as np\n",
    "import matplotlib.pyplot as plt\n",
    "import seaborn as sns; sns.set()\n",
    "%matplotlib inline"
   ]
  },
  {
   "cell_type": "code",
   "execution_count": 2,
   "metadata": {
    "ExecuteTime": {
     "end_time": "2020-10-15T13:57:28.215116Z",
     "start_time": "2020-10-15T13:57:28.207136Z"
    }
   },
   "outputs": [],
   "source": [
    "states = pd.read_csv('state abbr.csv', encoding = 'utf-8')"
   ]
  },
  {
   "cell_type": "code",
   "execution_count": 3,
   "metadata": {
    "ExecuteTime": {
     "end_time": "2020-10-15T13:57:28.401174Z",
     "start_time": "2020-10-15T13:57:28.217109Z"
    },
    "scrolled": true
   },
   "outputs": [],
   "source": [
    "data = pd.read_csv('Corona_NLP_train.csv', encoding = 'utf-8')"
   ]
  },
  {
   "cell_type": "code",
   "execution_count": 4,
   "metadata": {
    "ExecuteTime": {
     "end_time": "2020-10-15T13:57:28.456024Z",
     "start_time": "2020-10-15T13:57:28.403166Z"
    }
   },
   "outputs": [],
   "source": [
    "data = data[data.Location.notnull()]"
   ]
  },
  {
   "cell_type": "code",
   "execution_count": 5,
   "metadata": {
    "ExecuteTime": {
     "end_time": "2020-10-15T13:57:28.508399Z",
     "start_time": "2020-10-15T13:57:28.457020Z"
    }
   },
   "outputs": [],
   "source": [
    "data = data[data['Location'].str.contains('|'.join(states['State'].tolist()))]"
   ]
  },
  {
   "cell_type": "markdown",
   "metadata": {},
   "source": [
    "### 1.2 clean the text and remove non_text data"
   ]
  },
  {
   "cell_type": "code",
   "execution_count": 6,
   "metadata": {
    "ExecuteTime": {
     "end_time": "2020-10-15T13:57:28.517376Z",
     "start_time": "2020-10-15T13:57:28.509397Z"
    }
   },
   "outputs": [],
   "source": [
    "def clean_text(text):\n",
    "    # Make text lowercase, remove text in square brackets, remove links, remove punctuation and remove words containing numbers\n",
    "    # Use re.sub to substitude all that with ''\n",
    "    text = text.lower()\n",
    "    text = re.sub('\\[.*?\\]', '', text)                              # remove text in square brackets\n",
    "    text = re.sub('https?://\\S+|www\\.\\S+', '', text)                # remove links\n",
    "    text = re.sub('<.*?>+', '', text)                               # remove text in angle brackets\n",
    "    text = re.sub('[%s]' % re.escape(string.punctuation), '', text) # remove punctuation\n",
    "    text = re.sub('\\n', '', text)                                   # remove line break\n",
    "    text = re.sub('\\w*\\d\\w*', '', text)                             # remove words containing numbers\n",
    "    return(text)"
   ]
  },
  {
   "cell_type": "code",
   "execution_count": 7,
   "metadata": {
    "ExecuteTime": {
     "end_time": "2020-10-15T13:57:28.527349Z",
     "start_time": "2020-10-15T13:57:28.519370Z"
    }
   },
   "outputs": [],
   "source": [
    "def remove_emoji(text):\n",
    "    emoji_pattern = re.compile(\"[\"\n",
    "                           u\"\\U0001F600-\\U0001F64F\"  # emoticons\n",
    "                           u\"\\U0001F300-\\U0001F5FF\"  # symbols & pictographs\n",
    "                           u\"\\U0001F680-\\U0001F6FF\"  # transport & map symbols\n",
    "                           u\"\\U0001F1E0-\\U0001F1FF\"  # flags (iOS)\n",
    "                           u\"\\U00002702-\\U000027B0\"\n",
    "                           u\"\\U000024C2-\\U0001F251\"\n",
    "                           \"]+\", flags=re.UNICODE)\n",
    "    text = re.sub(emoji_pattern, '', text)\n",
    "    return(text)"
   ]
  },
  {
   "cell_type": "code",
   "execution_count": 8,
   "metadata": {
    "ExecuteTime": {
     "end_time": "2020-10-15T13:57:28.978161Z",
     "start_time": "2020-10-15T13:57:28.530342Z"
    }
   },
   "outputs": [],
   "source": [
    "data['text'] = data['OriginalTweet'].apply(lambda x: clean_text(x))"
   ]
  },
  {
   "cell_type": "code",
   "execution_count": 9,
   "metadata": {
    "ExecuteTime": {
     "end_time": "2020-10-15T13:57:29.055952Z",
     "start_time": "2020-10-15T13:57:28.980156Z"
    }
   },
   "outputs": [],
   "source": [
    "data['text'] = data['text'].apply(lambda x: remove_emoji(x))"
   ]
  },
  {
   "cell_type": "markdown",
   "metadata": {},
   "source": [
    "## 2. word vectorization"
   ]
  },
  {
   "cell_type": "markdown",
   "metadata": {},
   "source": [
    "### 2.1 TF-IDF (term frequency–inverse document frequency) vectorization"
   ]
  },
  {
   "cell_type": "code",
   "execution_count": 10,
   "metadata": {
    "ExecuteTime": {
     "end_time": "2020-10-15T13:57:29.062934Z",
     "start_time": "2020-10-15T13:57:29.057947Z"
    }
   },
   "outputs": [],
   "source": [
    "from sklearn import feature_extraction\n",
    "from sklearn.feature_extraction.text import TfidfTransformer\n",
    "from sklearn.feature_extraction.text import CountVectorizer\n",
    "from sklearn.feature_extraction.text import TfidfVectorizer\n"
   ]
  },
  {
   "cell_type": "code",
   "execution_count": null,
   "metadata": {},
   "outputs": [],
   "source": []
  },
  {
   "cell_type": "markdown",
   "metadata": {},
   "source": [
    "#### TF without IDF"
   ]
  },
  {
   "cell_type": "code",
   "execution_count": 11,
   "metadata": {
    "ExecuteTime": {
     "end_time": "2020-10-15T13:57:29.344215Z",
     "start_time": "2020-10-15T13:57:29.064928Z"
    }
   },
   "outputs": [
    {
     "name": "stderr",
     "output_type": "stream",
     "text": [
      "//anaconda3/lib/python3.7/site-packages/sklearn/feature_extraction/text.py:300: UserWarning: Your stop_words may be inconsistent with your preprocessing. Tokenizing the stop words generated tokens ['baiknya', 'berkali', 'kali', 'kurangnya', 'mata', 'olah', 'onların', 'printr', 'sekurang', 'setidak', 'tama', 'tidaknya', 'δι', 'арбаң', 'арсалаң', 'афташ', 'бай', 'бале', 'баски', 'батыр', 'баҳри', 'болои', 'бүгжең', 'бұтыр', 'валекин', 'вақте', 'вой', 'вуҷуди', 'гар', 'гарчанде', 'далаң', 'даме', 'ербелең', 'жалт', 'жұлт', 'карда', 'кошки', 'куя', 'күңгір', 'кӣ', 'магар', 'майлаш', 'митың', 'модоме', 'нияти', 'онан', 'оре', 'паһ', 'рӯи', 'салаң', 'сар', 'сұлаң', 'сұрт', 'тарбаң', 'тразе', 'ту', 'тыржың', 'тұрс', 'хом', 'хуб', 'чаро', 'чи', 'чун', 'чунон', 'шарте', 'шұңқ', 'ыржың', 'қадар', 'қайқаң', 'қалт', 'қаңғыр', 'қаңқ', 'қош', 'қызараң', 'құйқаң', 'құлт', 'құңқ', 'ұрс', 'ҳай', 'ҳамин', 'ҳатто', 'ҳо', 'ҳол', 'ҳолате', 'әттеген', 'ӯим', 'अक', 'अग', 'अझ', 'अन', 'अर', 'आजक', 'आत', 'आद', 'आफ', 'आय', 'ईक', 'उद', 'उनक', 'उनल', 'उह', 'एउट', 'एन', 'कog', 'कत', 'कम', 'कस', 'कसर', 'कह', 'गत', 'गय', 'गर', 'चम', 'छन', 'जत', 'जबक', 'जस', 'जसक', 'जसब', 'जसम', 'जसल', 'जह', 'तत', 'तथ', 'तदन', 'तप', 'तवम', 'नज', 'नत', 'नभन', 'नय', 'पक', 'पछ', 'पन', 'पय', 'पर', 'पष', 'पह', 'बन', 'बर', 'भएक', 'भय', 'भव', 'मल', 'यत', 'यथ', 'यद', 'यप', 'यसक', 'यसपछ', 'यसब', 'यसर', 'यह', 'रण', 'रत', 'रमश', 'रह', 'लस', 'वर', 'सक', 'सट', 'सध', 'सपछ', 'सब', 'सम', 'सर', 'सह', 'हन', 'हर', 'हरण', 'ἀλλ'] not in stop_words.\n",
      "  'stop_words.' % sorted(inconsistent))\n"
     ]
    },
    {
     "name": "stdout",
     "output_type": "stream",
     "text": [
      "  (0, 5283)\t0.20851441405707477\n",
      "  (0, 14554)\t0.20851441405707477\n",
      "  (0, 16758)\t0.20851441405707477\n",
      "  (0, 2958)\t0.20851441405707477\n",
      "  (0, 1047)\t0.20851441405707477\n",
      "  (0, 12212)\t0.20851441405707477\n",
      "  (0, 18969)\t0.20851441405707477\n",
      "  (0, 2189)\t0.20851441405707477\n",
      "  (0, 2950)\t0.20851441405707477\n",
      "  (0, 11689)\t0.20851441405707477\n",
      "  (0, 18255)\t0.20851441405707477\n",
      "  (0, 19168)\t0.20851441405707477\n",
      "  (0, 1494)\t0.20851441405707477\n",
      "  (0, 11221)\t0.20851441405707477\n",
      "  (0, 10579)\t0.20851441405707477\n",
      "  (0, 3526)\t0.20851441405707477\n",
      "  (0, 13497)\t0.20851441405707477\n",
      "  (0, 12175)\t0.20851441405707477\n",
      "  (0, 12927)\t0.20851441405707477\n",
      "  (0, 12273)\t0.20851441405707477\n",
      "  (0, 11820)\t0.20851441405707477\n",
      "  (0, 17467)\t0.20851441405707477\n",
      "  (0, 18391)\t0.20851441405707477\n",
      "  (1, 5083)\t0.2672612419124244\n",
      "  (1, 11578)\t0.5345224838248488\n",
      "  :\t:\n",
      "  (8854, 16682)\t0.25\n",
      "  (8854, 19158)\t0.25\n",
      "  (8854, 16728)\t0.25\n",
      "  (8854, 2107)\t0.25\n",
      "  (8854, 6952)\t0.25\n",
      "  (8854, 11608)\t0.25\n",
      "  (8854, 10113)\t0.25\n",
      "  (8855, 3681)\t0.2886751345948129\n",
      "  (8855, 2223)\t0.2886751345948129\n",
      "  (8855, 16674)\t0.2886751345948129\n",
      "  (8855, 7329)\t0.2886751345948129\n",
      "  (8855, 2378)\t0.2886751345948129\n",
      "  (8855, 11640)\t0.2886751345948129\n",
      "  (8855, 2915)\t0.2886751345948129\n",
      "  (8855, 14358)\t0.2886751345948129\n",
      "  (8855, 7733)\t0.2886751345948129\n",
      "  (8855, 15085)\t0.2886751345948129\n",
      "  (8855, 19729)\t0.2886751345948129\n",
      "  (8855, 5936)\t0.2886751345948129\n",
      "  (8856, 3681)\t0.4082482904638631\n",
      "  (8856, 11369)\t0.4082482904638631\n",
      "  (8856, 14065)\t0.4082482904638631\n",
      "  (8856, 8169)\t0.4082482904638631\n",
      "  (8856, 17796)\t0.4082482904638631\n",
      "  (8856, 15686)\t0.4082482904638631\n"
     ]
    }
   ],
   "source": [
    "tf_vec = TfidfVectorizer(stop_words = nltk.corpus.stopwords.words(), use_idf=False, norm='l2')\n",
    "tf = tf_vec.fit_transform(data['text'].tolist())\n",
    "print(tf)\n",
    "#tf_df = pd.DataFrame((value, word) for word, value in zip(\n",
    "#    tf.toarray().tolist()[0], tf_vec.get_feature_names()))\n",
    "#tf_df.columns = ['Word', 'TF']\n",
    "#tf_df.sort_values('TF', ascending=False, inplace=True)\n",
    "#tf_df.head()"
   ]
  },
  {
   "cell_type": "code",
   "execution_count": 12,
   "metadata": {
    "ExecuteTime": {
     "end_time": "2020-10-15T13:57:29.456881Z",
     "start_time": "2020-10-15T13:57:29.450931Z"
    }
   },
   "outputs": [
    {
     "data": {
      "text/plain": [
       "(8857, 19817)"
      ]
     },
     "execution_count": 12,
     "metadata": {},
     "output_type": "execute_result"
    }
   ],
   "source": [
    "tf.shape"
   ]
  },
  {
   "cell_type": "code",
   "execution_count": 13,
   "metadata": {
    "ExecuteTime": {
     "end_time": "2020-10-15T13:57:30.136004Z",
     "start_time": "2020-10-15T13:57:29.864866Z"
    }
   },
   "outputs": [
    {
     "name": "stderr",
     "output_type": "stream",
     "text": [
      "//anaconda3/lib/python3.7/site-packages/sklearn/feature_extraction/text.py:300: UserWarning: Your stop_words may be inconsistent with your preprocessing. Tokenizing the stop words generated tokens ['baiknya', 'berkali', 'kali', 'kurangnya', 'mata', 'olah', 'onların', 'printr', 'sekurang', 'setidak', 'tama', 'tidaknya', 'δι', 'арбаң', 'арсалаң', 'афташ', 'бай', 'бале', 'баски', 'батыр', 'баҳри', 'болои', 'бүгжең', 'бұтыр', 'валекин', 'вақте', 'вой', 'вуҷуди', 'гар', 'гарчанде', 'далаң', 'даме', 'ербелең', 'жалт', 'жұлт', 'карда', 'кошки', 'куя', 'күңгір', 'кӣ', 'магар', 'майлаш', 'митың', 'модоме', 'нияти', 'онан', 'оре', 'паһ', 'рӯи', 'салаң', 'сар', 'сұлаң', 'сұрт', 'тарбаң', 'тразе', 'ту', 'тыржың', 'тұрс', 'хом', 'хуб', 'чаро', 'чи', 'чун', 'чунон', 'шарте', 'шұңқ', 'ыржың', 'қадар', 'қайқаң', 'қалт', 'қаңғыр', 'қаңқ', 'қош', 'қызараң', 'құйқаң', 'құлт', 'құңқ', 'ұрс', 'ҳай', 'ҳамин', 'ҳатто', 'ҳо', 'ҳол', 'ҳолате', 'әттеген', 'ӯим', 'अक', 'अग', 'अझ', 'अन', 'अर', 'आजक', 'आत', 'आद', 'आफ', 'आय', 'ईक', 'उद', 'उनक', 'उनल', 'उह', 'एउट', 'एन', 'कog', 'कत', 'कम', 'कस', 'कसर', 'कह', 'गत', 'गय', 'गर', 'चम', 'छन', 'जत', 'जबक', 'जस', 'जसक', 'जसब', 'जसम', 'जसल', 'जह', 'तत', 'तथ', 'तदन', 'तप', 'तवम', 'नज', 'नत', 'नभन', 'नय', 'पक', 'पछ', 'पन', 'पय', 'पर', 'पष', 'पह', 'बन', 'बर', 'भएक', 'भय', 'भव', 'मल', 'यत', 'यथ', 'यद', 'यप', 'यसक', 'यसपछ', 'यसब', 'यसर', 'यह', 'रण', 'रत', 'रमश', 'रह', 'लस', 'वर', 'सक', 'सट', 'सध', 'सपछ', 'सब', 'सम', 'सर', 'सह', 'हन', 'हर', 'हरण', 'ἀλλ'] not in stop_words.\n",
      "  'stop_words.' % sorted(inconsistent))\n"
     ]
    },
    {
     "name": "stdout",
     "output_type": "stream",
     "text": [
      "  (0, 18391)\t0.258636621635752\n",
      "  (0, 17467)\t0.1671735674624728\n",
      "  (0, 11820)\t0.20076590464999672\n",
      "  (0, 12273)\t0.20076590464999672\n",
      "  (0, 12927)\t0.22362400184816142\n",
      "  (0, 12175)\t0.12384771028499776\n",
      "  (0, 13497)\t0.24382875898840384\n",
      "  (0, 3526)\t0.18028941247112795\n",
      "  (0, 10579)\t0.18460985731005922\n",
      "  (0, 11221)\t0.2217654787814709\n",
      "  (0, 1494)\t0.21915351616264284\n",
      "  (0, 19168)\t0.17433946975803713\n",
      "  (0, 18255)\t0.17844513782054897\n",
      "  (0, 11689)\t0.17645186623408135\n",
      "  (0, 2950)\t0.24745045331757268\n",
      "  (0, 2189)\t0.15898955692921068\n",
      "  (0, 18969)\t0.3229785175261114\n",
      "  (0, 12212)\t0.1725649181599551\n",
      "  (0, 1047)\t0.2799156631877043\n",
      "  (0, 2958)\t0.30904093689125334\n",
      "  (0, 16758)\t0.08266168224662723\n",
      "  (0, 14554)\t0.1430710156863644\n",
      "  (0, 5283)\t0.14428380346945968\n",
      "  (1, 3681)\t0.09972151948850481\n",
      "  (1, 19270)\t0.40629281207189455\n",
      "  :\t:\n",
      "  (8854, 7069)\t0.16219478948770516\n",
      "  (8854, 7398)\t0.1717533969317686\n",
      "  (8854, 14691)\t0.16404225065413075\n",
      "  (8854, 13432)\t0.10443807334113049\n",
      "  (8854, 7329)\t0.1424021853826043\n",
      "  (8854, 7511)\t0.17197034818795542\n",
      "  (8854, 3681)\t0.061361173294667296\n",
      "  (8855, 5936)\t0.4185471011706227\n",
      "  (8855, 19729)\t0.36216391711931173\n",
      "  (8855, 15085)\t0.201378666431721\n",
      "  (8855, 7733)\t0.2101959057576141\n",
      "  (8855, 14358)\t0.4185471011706227\n",
      "  (8855, 2915)\t0.317839127794402\n",
      "  (8855, 11640)\t0.22191067659930755\n",
      "  (8855, 2378)\t0.30600771606166083\n",
      "  (8855, 7329)\t0.2267914573604826\n",
      "  (8855, 16674)\t0.24086521127776653\n",
      "  (8855, 2223)\t0.2661408912843816\n",
      "  (8855, 3681)\t0.09772455302885195\n",
      "  (8856, 15686)\t0.7104305325174822\n",
      "  (8856, 17796)\t0.2917501350246239\n",
      "  (8856, 8169)\t0.3021020901002815\n",
      "  (8856, 14065)\t0.40148797926132823\n",
      "  (8856, 11369)\t0.37319695656641483\n",
      "  (8856, 3681)\t0.1357795214872355\n"
     ]
    }
   ],
   "source": [
    "tfidf_vec = TfidfVectorizer(stop_words = nltk.corpus.stopwords.words(), use_idf=True) # norm='l2'\n",
    "tfidf = tfidf_vec.fit_transform(data['text'].tolist())\n",
    "print(tfidf)"
   ]
  },
  {
   "cell_type": "code",
   "execution_count": 14,
   "metadata": {
    "ExecuteTime": {
     "end_time": "2020-10-15T14:33:41.849088Z",
     "start_time": "2020-10-15T14:33:41.587752Z"
    }
   },
   "outputs": [
    {
     "data": {
      "text/plain": [
       "(8857, 19817)"
      ]
     },
     "execution_count": 14,
     "metadata": {},
     "output_type": "execute_result"
    }
   ],
   "source": [
    "tf.toarray().shape"
   ]
  },
  {
   "cell_type": "code",
   "execution_count": 15,
   "metadata": {
    "ExecuteTime": {
     "end_time": "2020-10-15T13:57:30.314368Z",
     "start_time": "2020-10-15T13:57:30.309381Z"
    }
   },
   "outputs": [
    {
     "data": {
      "text/plain": [
       "(8857, 19817)"
      ]
     },
     "execution_count": 15,
     "metadata": {},
     "output_type": "execute_result"
    }
   ],
   "source": [
    "tfidf.shape"
   ]
  },
  {
   "cell_type": "markdown",
   "metadata": {},
   "source": [
    "#### TF-IDF"
   ]
  },
  {
   "cell_type": "code",
   "execution_count": 16,
   "metadata": {
    "ExecuteTime": {
     "end_time": "2020-10-15T13:57:31.547663Z",
     "start_time": "2020-10-15T13:57:31.280569Z"
    }
   },
   "outputs": [
    {
     "name": "stderr",
     "output_type": "stream",
     "text": [
      "//anaconda3/lib/python3.7/site-packages/sklearn/feature_extraction/text.py:300: UserWarning: Your stop_words may be inconsistent with your preprocessing. Tokenizing the stop words generated tokens ['baiknya', 'berkali', 'kali', 'kurangnya', 'mata', 'olah', 'onların', 'printr', 'sekurang', 'setidak', 'tama', 'tidaknya', 'δι', 'арбаң', 'арсалаң', 'афташ', 'бай', 'бале', 'баски', 'батыр', 'баҳри', 'болои', 'бүгжең', 'бұтыр', 'валекин', 'вақте', 'вой', 'вуҷуди', 'гар', 'гарчанде', 'далаң', 'даме', 'ербелең', 'жалт', 'жұлт', 'карда', 'кошки', 'куя', 'күңгір', 'кӣ', 'магар', 'майлаш', 'митың', 'модоме', 'нияти', 'онан', 'оре', 'паһ', 'рӯи', 'салаң', 'сар', 'сұлаң', 'сұрт', 'тарбаң', 'тразе', 'ту', 'тыржың', 'тұрс', 'хом', 'хуб', 'чаро', 'чи', 'чун', 'чунон', 'шарте', 'шұңқ', 'ыржың', 'қадар', 'қайқаң', 'қалт', 'қаңғыр', 'қаңқ', 'қош', 'қызараң', 'құйқаң', 'құлт', 'құңқ', 'ұрс', 'ҳай', 'ҳамин', 'ҳатто', 'ҳо', 'ҳол', 'ҳолате', 'әттеген', 'ӯим', 'अक', 'अग', 'अझ', 'अन', 'अर', 'आजक', 'आत', 'आद', 'आफ', 'आय', 'ईक', 'उद', 'उनक', 'उनल', 'उह', 'एउट', 'एन', 'कog', 'कत', 'कम', 'कस', 'कसर', 'कह', 'गत', 'गय', 'गर', 'चम', 'छन', 'जत', 'जबक', 'जस', 'जसक', 'जसब', 'जसम', 'जसल', 'जह', 'तत', 'तथ', 'तदन', 'तप', 'तवम', 'नज', 'नत', 'नभन', 'नय', 'पक', 'पछ', 'पन', 'पय', 'पर', 'पष', 'पह', 'बन', 'बर', 'भएक', 'भय', 'भव', 'मल', 'यत', 'यथ', 'यद', 'यप', 'यसक', 'यसपछ', 'यसब', 'यसर', 'यह', 'रण', 'रत', 'रमश', 'रह', 'लस', 'वर', 'सक', 'सट', 'सध', 'सपछ', 'सब', 'सम', 'सर', 'सह', 'हन', 'हर', 'हरण', 'ἀλλ'] not in stop_words.\n",
      "  'stop_words.' % sorted(inconsistent))\n"
     ]
    }
   ],
   "source": [
    "tfidf_vec = TfidfVectorizer(stop_words = nltk.corpus.stopwords.words(), use_idf=True) # norm='l2'\n",
    "#tfidf = tfidf_vec.fit_transform(data['text'].tolist())\n",
    "tfidf = tfidf_vec.fit_transform(data['text'].tolist())\n",
    "#tfidf_df = pd.DataFrame((value, word) for word, value in zip(\n",
    "#    tfidf.toarray().tolist()[0], tfidf_vec.get_feature_names()))\n",
    "#tfidf_df.columns = ['Word', 'TF-IDF']\n",
    "#tfidf_df.sort_values('TF-IDF', ascending=False, inplace=True)\n",
    "#tfidf_df.head()\n"
   ]
  },
  {
   "cell_type": "code",
   "execution_count": 16,
   "metadata": {
    "ExecuteTime": {
     "end_time": "2020-10-15T13:57:31.615631Z",
     "start_time": "2020-10-15T13:57:31.611606Z"
    }
   },
   "outputs": [],
   "source": [
    "#tfidf_df.shape#"
   ]
  },
  {
   "cell_type": "code",
   "execution_count": 25,
   "metadata": {},
   "outputs": [],
   "source": [
    "from sklearn.model_selection import train_test_split\n",
    "from sklearn.model_selection import cross_val_score\n",
    "from sklearn.model_selection import cross_validate\n",
    "from sklearn.model_selection import KFold\n",
    "from sklearn.naive_bayes import MultinomialNB\n",
    "from sklearn.metrics import confusion_matrix\n",
    "from sklearn.metrics import classification_report\n",
    "from sklearn.metrics import make_scorer, accuracy_score, precision_score, recall_score, f1_score\n",
    "from collections import Counter"
   ]
  },
  {
   "cell_type": "code",
   "execution_count": 37,
   "metadata": {},
   "outputs": [
    {
     "data": {
      "text/plain": [
       "MultinomialNB(alpha=0.3, class_prior=None, fit_prior=True)"
      ]
     },
     "execution_count": 37,
     "metadata": {},
     "output_type": "execute_result"
    }
   ],
   "source": [
    "NB = MultinomialNB(alpha=0.3, class_prior=None, fit_prior=True)\n",
    "NB.fit(tfidf, data['Sentiment'])"
   ]
  },
  {
   "cell_type": "code",
   "execution_count": 39,
   "metadata": {},
   "outputs": [
    {
     "name": "stdout",
     "output_type": "stream",
     "text": [
      "[0.37824126 0.40157924 0.38904574 0.39774011 0.37535331]\n"
     ]
    },
    {
     "name": "stderr",
     "output_type": "stream",
     "text": [
      "//anaconda3/lib/python3.7/site-packages/sklearn/model_selection/_split.py:657: Warning: The least populated class in y has only 1 members, which is too few. The minimum number of members in any class cannot be less than n_splits=5.\n",
      "  % (min_groups, self.n_splits)), Warning)\n"
     ]
    }
   ],
   "source": [
    "print(cross_val_score(NB,tfidf, data['Sentiment'] , cv=5))"
   ]
  },
  {
   "cell_type": "code",
   "execution_count": 42,
   "metadata": {},
   "outputs": [
    {
     "data": {
      "text/plain": [
       "Text(80.90000000000006, 0.5, 'predicted label')"
      ]
     },
     "execution_count": 42,
     "metadata": {},
     "output_type": "execute_result"
    },
    {
     "data": {
      "image/png": "[encoded data removed]",
      "text/plain": [
       "<Figure size 432x288 with 2 Axes>"
      ]
     },
     "metadata": {
      "needs_background": "light"
     },
     "output_type": "display_data"
    }
   ],
   "source": [
    "mat = confusion_matrix(data['Sentiment'], y_predict)\n",
    "sns.heatmap(mat.T, square=True, annot=True,fmt=\"d\")\n",
    "plt.xlabel('true label')\n",
    "plt.ylabel('predicted label')"
   ]
  },
  {
   "cell_type": "code",
   "execution_count": 43,
   "metadata": {},
   "outputs": [],
   "source": [
    "from sklearn.tree import DecisionTreeClassifier\n",
    "from sklearn.svm import SVC\n",
    "from sklearn.ensemble import RandomForestClassifier"
   ]
  },
  {
   "cell_type": "code",
   "execution_count": 51,
   "metadata": {},
   "outputs": [
    {
     "data": {
      "text/plain": [
       "RandomForestClassifier(bootstrap=True, class_weight=None, criterion='gini',\n",
       "                       max_depth=10, max_features='auto', max_leaf_nodes=None,\n",
       "                       min_impurity_decrease=0.0, min_impurity_split=None,\n",
       "                       min_samples_leaf=1, min_samples_split=2,\n",
       "                       min_weight_fraction_leaf=0.0, n_estimators=1000,\n",
       "                       n_jobs=None, oob_score=False, random_state=0, verbose=0,\n",
       "                       warm_start=False)"
      ]
     },
     "execution_count": 51,
     "metadata": {},
     "output_type": "execute_result"
    }
   ],
   "source": [
    "#train Randomforest model\n",
    "trees=1000\n",
    "max_depth=10\n",
    "#100 trees are enough\n",
    "model=RandomForestClassifier(n_estimators=trees,random_state=0,max_depth=max_depth)\n",
    "model.fit(tfidf, data['Sentiment'])"
   ]
  },
  {
   "cell_type": "code",
   "execution_count": 50,
   "metadata": {},
   "outputs": [
    {
     "name": "stdout",
     "output_type": "stream",
     "text": [
      "0.2988596590267585\n"
     ]
    }
   ],
   "source": [
    "y_predict =model.predict(tfidf)\n",
    "print(accuracy_score(data['Sentiment'],y_predict))"
   ]
  },
  {
   "cell_type": "code",
   "execution_count": 49,
   "metadata": {},
   "outputs": [
    {
     "name": "stderr",
     "output_type": "stream",
     "text": [
      "//anaconda3/lib/python3.7/site-packages/sklearn/model_selection/_split.py:657: Warning: The least populated class in y has only 1 members, which is too few. The minimum number of members in any class cannot be less than n_splits=5.\n",
      "  % (min_groups, self.n_splits)), Warning)\n"
     ]
    },
    {
     "name": "stdout",
     "output_type": "stream",
     "text": [
      "[0.29481398 0.29723632 0.29361942 0.29378531 0.29395138]\n"
     ]
    }
   ],
   "source": [
    "print(cross_val_score(model,tfidf, data['Sentiment'] , cv=5))"
   ]
  },
  {
   "cell_type": "markdown",
   "metadata": {},
   "source": [
    "### 2.2 word2vec "
   ]
  },
  {
   "cell_type": "code",
   "execution_count": 17,
   "metadata": {
    "ExecuteTime": {
     "end_time": "2020-10-15T13:57:34.169571Z",
     "start_time": "2020-10-15T13:57:32.196907Z"
    }
   },
   "outputs": [],
   "source": [
    "from gensim.models.word2vec import Word2Vec\n",
    "import gensim\n",
    "sentences = [nltk.word_tokenize(_) for _ in data['text'].tolist()]"
   ]
  },
  {
   "cell_type": "code",
   "execution_count": 18,
   "metadata": {
    "ExecuteTime": {
     "end_time": "2020-10-15T13:59:48.001613Z",
     "start_time": "2020-10-15T13:59:47.073321Z"
    },
    "scrolled": true
   },
   "outputs": [
    {
     "data": {
      "text/plain": [
       "(855834, 1236680)"
      ]
     },
     "execution_count": 18,
     "metadata": {},
     "output_type": "execute_result"
    }
   ],
   "source": [
    "model = Word2Vec()  # build model\n",
    "model.build_vocab(sentences) # build vocabulary\n",
    "model.train(sentences, total_examples = model.corpus_count, epochs = model.epochs) # train the model"
   ]
  },
  {
   "cell_type": "markdown",
   "metadata": {},
   "source": [
    "#### word vector"
   ]
  },
  {
   "cell_type": "markdown",
   "metadata": {},
   "source": [
    "#### cosine similarity for 2 words"
   ]
  },
  {
   "cell_type": "code",
   "execution_count": 20,
   "metadata": {
    "ExecuteTime": {
     "end_time": "2020-10-15T13:59:56.535080Z",
     "start_time": "2020-10-15T13:59:56.503833Z"
    }
   },
   "outputs": [
    {
     "data": {
      "text/plain": [
       "0.9923096"
      ]
     },
     "execution_count": 20,
     "metadata": {},
     "output_type": "execute_result"
    }
   ],
   "source": [
    "model.wv.similarity('understanding', 'classes')"
   ]
  },
  {
   "cell_type": "markdown",
   "metadata": {},
   "source": [
    "#### cosine similarity for 2 word sets"
   ]
  },
  {
   "cell_type": "code",
   "execution_count": 21,
   "metadata": {
    "ExecuteTime": {
     "end_time": "2020-10-15T13:59:57.287814Z",
     "start_time": "2020-10-15T13:59:57.272193Z"
    }
   },
   "outputs": [
    {
     "data": {
      "text/plain": [
       "0.703936"
      ]
     },
     "execution_count": 21,
     "metadata": {},
     "output_type": "execute_result"
    }
   ],
   "source": [
    "model.wv.n_similarity(['understanding', 'classes'], ['open', 'store'])"
   ]
  },
  {
   "cell_type": "code",
   "execution_count": 28,
   "metadata": {
    "ExecuteTime": {
     "end_time": "2020-10-15T13:59:57.874061Z",
     "start_time": "2020-10-15T13:59:57.858471Z"
    }
   },
   "outputs": [
    {
     "name": "stdout",
     "output_type": "stream",
     "text": [
      "Word2Vec(vocab=4209, size=100, alpha=0.025)\n"
     ]
    }
   ],
   "source": [
    "print(model)"
   ]
  },
  {
   "cell_type": "markdown",
   "metadata": {},
   "source": [
    "# 1.4 KMeans Unsupervised Learning for Sentiment Analysis"
   ]
  },
  {
   "cell_type": "code",
   "execution_count": 29,
   "metadata": {
    "ExecuteTime": {
     "end_time": "2020-10-15T14:00:02.256975Z",
     "start_time": "2020-10-15T13:59:58.117290Z"
    }
   },
   "outputs": [],
   "source": [
    "import sklearn\n",
    "from sklearn.cluster import KMeans\n",
    "word_vectors = model.wv\n",
    "kmeans = KMeans(n_clusters=2, max_iter=1000, random_state=True, n_init=50).fit(X=word_vectors.vectors)\n",
    "\n",
    "#figure out the positive and negative cluster center of the words\n",
    "positive_cluster_center = kmeans.cluster_centers_[0]\n",
    "negative_cluster_center = kmeans.cluster_centers_[1]"
   ]
  },
  {
   "cell_type": "code",
   "execution_count": 65,
   "metadata": {
    "ExecuteTime": {
     "end_time": "2020-10-15T14:34:44.281426Z",
     "start_time": "2020-10-15T14:34:44.271452Z"
    }
   },
   "outputs": [
    {
     "data": {
      "text/plain": [
       "[('whats', 0.9993171691894531),\n",
       " ('what\\x92s', 0.9991989731788635),\n",
       " ('start', 0.9990618228912354),\n",
       " ('rules', 0.9989457130432129),\n",
       " ('wage', 0.9989343881607056),\n",
       " ('deliveries', 0.9987987279891968),\n",
       " ('smaller', 0.9987094402313232),\n",
       " ('fill', 0.9986801147460938),\n",
       " ('we\\x92re', 0.9986801147460938),\n",
       " ('near', 0.9986141324043274),\n",
       " ('thru', 0.9985823631286621),\n",
       " ('twitter', 0.9985329508781433),\n",
       " ('paid', 0.9985020160675049),\n",
       " ('cooking', 0.9984216690063477),\n",
       " ('contaminated', 0.9984185099601746),\n",
       " ('lose', 0.9983917474746704),\n",
       " ('spreading', 0.9983611702919006),\n",
       " ('corporations', 0.9983470439910889),\n",
       " ('checking', 0.9983452558517456),\n",
       " ('they\\x92re', 0.9983090162277222),\n",
       " ('process', 0.9983006715774536),\n",
       " ('arent', 0.9982805252075195),\n",
       " ('safer', 0.9982684850692749),\n",
       " ('worst', 0.9982439279556274),\n",
       " ('tx', 0.9982157945632935),\n",
       " ('private', 0.9981994032859802),\n",
       " ('blue', 0.9981851577758789),\n",
       " ('recently', 0.9981381297111511),\n",
       " ('bars', 0.9981337189674377),\n",
       " ('stress', 0.998129665851593),\n",
       " ('managers', 0.9981281757354736),\n",
       " ('rich', 0.9981181621551514),\n",
       " ('street', 0.9980795383453369),\n",
       " ('allergies', 0.9980452656745911),\n",
       " ('numbers', 0.9980301856994629),\n",
       " ('rn', 0.9980233311653137),\n",
       " ('until', 0.9979950785636902),\n",
       " ('filling', 0.997988224029541),\n",
       " ('nope', 0.9979705214500427),\n",
       " ('rt', 0.997952401638031),\n",
       " ('tomorrow', 0.9979400038719177),\n",
       " ('protecting', 0.9979236125946045),\n",
       " ('big', 0.9979186058044434),\n",
       " ('benefit', 0.9979032874107361),\n",
       " ('answer', 0.9978764057159424),\n",
       " ('america', 0.9978761076927185),\n",
       " ('meals', 0.9978744387626648),\n",
       " ('effective', 0.9978569149971008),\n",
       " ('bailout', 0.9978441596031189),\n",
       " ('pizza', 0.9978420734405518)]"
      ]
     },
     "execution_count": 65,
     "metadata": {},
     "output_type": "execute_result"
    }
   ],
   "source": [
    "word_vectors.similar_by_vector(kmeans.cluster_centers_[0], topn=50, restrict_vocab=None)"
   ]
  },
  {
   "cell_type": "code",
   "execution_count": 66,
   "metadata": {
    "ExecuteTime": {
     "end_time": "2020-10-15T14:34:57.701441Z",
     "start_time": "2020-10-15T14:34:57.692466Z"
    }
   },
   "outputs": [
    {
     "data": {
      "text/plain": [
       "[('plan', 0.9994263052940369),\n",
       " ('democratic', 0.99924236536026),\n",
       " ('asking', 0.9992196559906006),\n",
       " ('elections', 0.9992192983627319),\n",
       " ('weve', 0.9992035627365112),\n",
       " ('newyorkcity', 0.9991694688796997),\n",
       " ('human', 0.9991687536239624),\n",
       " ('cdcgov', 0.9990737438201904),\n",
       " ('senate', 0.999046802520752),\n",
       " ('wall', 0.9990323781967163),\n",
       " ('red', 0.9990077614784241),\n",
       " ('student', 0.9989444613456726),\n",
       " ('bill', 0.9989262819290161),\n",
       " ('justice', 0.9989054203033447),\n",
       " ('threats', 0.9988794326782227),\n",
       " ('austin', 0.9988794326782227),\n",
       " ('uk', 0.9988789558410645),\n",
       " ('todays', 0.9988695383071899),\n",
       " ('communication', 0.9988325834274292),\n",
       " ('example', 0.9988299608230591),\n",
       " ('teens', 0.998826265335083),\n",
       " ('dc', 0.9988205432891846),\n",
       " ('months', 0.9988035559654236),\n",
       " ('ban', 0.998796284198761),\n",
       " ('foods', 0.998795747756958),\n",
       " ('breaks', 0.9987812638282776),\n",
       " ('million', 0.9987601041793823),\n",
       " ('chinese', 0.9987263679504395),\n",
       " ('within', 0.9987238645553589),\n",
       " ('ahead', 0.9987195730209351),\n",
       " ('briefing', 0.9986992478370667),\n",
       " ('dr', 0.9986988306045532),\n",
       " ('total', 0.9986959099769592),\n",
       " ('corporations', 0.9986779689788818),\n",
       " ('limited', 0.9986675977706909),\n",
       " ('cut', 0.9986422061920166),\n",
       " ('governor', 0.9986379146575928),\n",
       " ('e', 0.998634397983551),\n",
       " ('recommends', 0.9986324310302734),\n",
       " ('senatemajldr', 0.9986303448677063),\n",
       " ('angeles', 0.9986244440078735),\n",
       " ('vote', 0.9986234903335571),\n",
       " ('group', 0.9986013174057007),\n",
       " ('\\x93the', 0.9985988736152649),\n",
       " ('enact', 0.9985948801040649),\n",
       " ('register', 0.998572587966919),\n",
       " ('living', 0.9985707998275757),\n",
       " ('wisconsin', 0.9985705018043518),\n",
       " ('agreement', 0.998569130897522),\n",
       " ('buyers', 0.9985307455062866)]"
      ]
     },
     "execution_count": 66,
     "metadata": {},
     "output_type": "execute_result"
    }
   ],
   "source": [
    "word_vectors.similar_by_vector(kmeans.cluster_centers_[1], topn=50, restrict_vocab=None)"
   ]
  },
  {
   "cell_type": "markdown",
   "metadata": {},
   "source": [
    "We could find in in the nearest words, the first center have some words like 'safer', 'protecting','tomorrow', so it would be the positive center, and the other one is the negative center"
   ]
  },
  {
   "cell_type": "code",
   "execution_count": 32,
   "metadata": {
    "ExecuteTime": {
     "end_time": "2020-10-15T14:00:04.560712Z",
     "start_time": "2020-10-15T14:00:02.295826Z"
    }
   },
   "outputs": [
    {
     "name": "stderr",
     "output_type": "stream",
     "text": [
      "D:\\Anaconda\\lib\\site-packages\\ipykernel_launcher.py:3: DeprecationWarning: Call to deprecated `wv` (Attribute will be removed in 4.0.0, use self instead).\n",
      "  This is separate from the ipykernel package so we can avoid doing imports until\n"
     ]
    }
   ],
   "source": [
    "words = pd.DataFrame(word_vectors.vocab.keys())\n",
    "words.columns = ['words']\n",
    "words['vectors'] = words.words.apply(lambda x: word_vectors.wv[f'{x}'])\n",
    "words['cluster'] = words.vectors.apply(lambda x: kmeans.predict([np.array(x)]))\n",
    "words.cluster = words.cluster.apply(lambda x: x[0])\n",
    "\n",
    "#label the sentiment direction by the distance to the center and get the sentiment_coeff\n",
    "words['cluster_value'] = [1 if i==0 else -1 for i in words.cluster]\n",
    "words['closeness_score'] = words.apply(lambda x: 1/(kmeans.transform([x.vectors]).min()), axis=1)\n",
    "words['sentiment_coeff'] = words.closeness_score * words.cluster_value"
   ]
  },
  {
   "cell_type": "code",
   "execution_count": 33,
   "metadata": {
    "ExecuteTime": {
     "end_time": "2020-10-15T14:00:04.575994Z",
     "start_time": "2020-10-15T14:00:04.560712Z"
    }
   },
   "outputs": [],
   "source": [
    "words = words.set_index('words')"
   ]
  },
  {
   "cell_type": "code",
   "execution_count": 34,
   "metadata": {
    "ExecuteTime": {
     "end_time": "2020-10-15T14:00:04.609262Z",
     "start_time": "2020-10-15T14:00:04.575994Z"
    }
   },
   "outputs": [
    {
     "data": {
      "text/html": [
       "<div>\n",
       "<style scoped>\n",
       "    .dataframe tbody tr th:only-of-type {\n",
       "        vertical-align: middle;\n",
       "    }\n",
       "\n",
       "    .dataframe tbody tr th {\n",
       "        vertical-align: top;\n",
       "    }\n",
       "\n",
       "    .dataframe thead th {\n",
       "        text-align: right;\n",
       "    }\n",
       "</style>\n",
       "<table border=\"1\" class=\"dataframe\">\n",
       "  <thead>\n",
       "    <tr style=\"text-align: right;\">\n",
       "      <th></th>\n",
       "      <th>vectors</th>\n",
       "      <th>cluster</th>\n",
       "      <th>cluster_value</th>\n",
       "      <th>closeness_score</th>\n",
       "      <th>sentiment_coeff</th>\n",
       "    </tr>\n",
       "    <tr>\n",
       "      <th>words</th>\n",
       "      <th></th>\n",
       "      <th></th>\n",
       "      <th></th>\n",
       "      <th></th>\n",
       "      <th></th>\n",
       "    </tr>\n",
       "  </thead>\n",
       "  <tbody>\n",
       "    <tr>\n",
       "      <th>due</th>\n",
       "      <td>[-0.45658177, -0.49415156, 0.3454461, -0.94395...</td>\n",
       "      <td>0</td>\n",
       "      <td>1</td>\n",
       "      <td>0.449421</td>\n",
       "      <td>0.449421</td>\n",
       "    </tr>\n",
       "    <tr>\n",
       "      <th>to</th>\n",
       "      <td>[-0.30263138, 0.24481553, 0.106878765, -0.3677...</td>\n",
       "      <td>0</td>\n",
       "      <td>1</td>\n",
       "      <td>0.401669</td>\n",
       "      <td>0.401669</td>\n",
       "    </tr>\n",
       "    <tr>\n",
       "      <th>our</th>\n",
       "      <td>[-0.29039687, 0.0315191, 0.4806313, -0.6199161...</td>\n",
       "      <td>0</td>\n",
       "      <td>1</td>\n",
       "      <td>0.451599</td>\n",
       "      <td>0.451599</td>\n",
       "    </tr>\n",
       "    <tr>\n",
       "      <th>retail</th>\n",
       "      <td>[-0.56082296, 0.0695197, 0.40226996, -0.718389...</td>\n",
       "      <td>0</td>\n",
       "      <td>1</td>\n",
       "      <td>0.281456</td>\n",
       "      <td>0.281456</td>\n",
       "    </tr>\n",
       "    <tr>\n",
       "      <th>store</th>\n",
       "      <td>[-1.0768391, -0.13815445, 0.18461855, -0.67597...</td>\n",
       "      <td>0</td>\n",
       "      <td>1</td>\n",
       "      <td>0.138291</td>\n",
       "      <td>0.138291</td>\n",
       "    </tr>\n",
       "  </tbody>\n",
       "</table>\n",
       "</div>"
      ],
      "text/plain": [
       "                                                  vectors  cluster  \\\n",
       "words                                                                \n",
       "due     [-0.45658177, -0.49415156, 0.3454461, -0.94395...        0   \n",
       "to      [-0.30263138, 0.24481553, 0.106878765, -0.3677...        0   \n",
       "our     [-0.29039687, 0.0315191, 0.4806313, -0.6199161...        0   \n",
       "retail  [-0.56082296, 0.0695197, 0.40226996, -0.718389...        0   \n",
       "store   [-1.0768391, -0.13815445, 0.18461855, -0.67597...        0   \n",
       "\n",
       "        cluster_value  closeness_score  sentiment_coeff  \n",
       "words                                                    \n",
       "due                 1         0.449421         0.449421  \n",
       "to                  1         0.401669         0.401669  \n",
       "our                 1         0.451599         0.451599  \n",
       "retail              1         0.281456         0.281456  \n",
       "store               1         0.138291         0.138291  "
      ]
     },
     "execution_count": 34,
     "metadata": {},
     "output_type": "execute_result"
    }
   ],
   "source": [
    "words.head()"
   ]
  },
  {
   "cell_type": "code",
   "execution_count": 35,
   "metadata": {
    "ExecuteTime": {
     "end_time": "2020-10-15T14:00:04.697230Z",
     "start_time": "2020-10-15T14:00:04.609262Z"
    }
   },
   "outputs": [],
   "source": [
    "features = tfidf_vec.get_feature_names()\n",
    "dic = {}\n",
    "for i in features:\n",
    "    if i in words.index:\n",
    "        dic[i] = words.loc[i,'sentiment_coeff']\n",
    "    else:\n",
    "        dic[i] = 0"
   ]
  },
  {
   "cell_type": "markdown",
   "metadata": {},
   "source": [
    "Multiply the sentiment score with the Tfidf value and sum it up in one twitter, we could get a result about the twitter's sentiment"
   ]
  },
  {
   "cell_type": "code",
   "execution_count": 36,
   "metadata": {
    "ExecuteTime": {
     "end_time": "2020-10-15T14:00:05.228728Z",
     "start_time": "2020-10-15T14:00:04.697230Z"
    }
   },
   "outputs": [],
   "source": [
    "features_vec = np.array(list(dic.values())).reshape(len(dic),1)\n",
    "result = np.dot(tfidf.toarray(),features_vec)"
   ]
  },
  {
   "cell_type": "code",
   "execution_count": 67,
   "metadata": {
    "ExecuteTime": {
     "end_time": "2020-10-15T14:38:04.507099Z",
     "start_time": "2020-10-15T14:38:04.490144Z"
    }
   },
   "outputs": [
    {
     "data": {
      "text/html": [
       "<div>\n",
       "<style scoped>\n",
       "    .dataframe tbody tr th:only-of-type {\n",
       "        vertical-align: middle;\n",
       "    }\n",
       "\n",
       "    .dataframe tbody tr th {\n",
       "        vertical-align: top;\n",
       "    }\n",
       "\n",
       "    .dataframe thead th {\n",
       "        text-align: right;\n",
       "    }\n",
       "</style>\n",
       "<table border=\"1\" class=\"dataframe\">\n",
       "  <thead>\n",
       "    <tr style=\"text-align: right;\">\n",
       "      <th></th>\n",
       "      <th>UserName</th>\n",
       "      <th>ScreenName</th>\n",
       "      <th>Location</th>\n",
       "      <th>TweetAt</th>\n",
       "      <th>OriginalTweet</th>\n",
       "      <th>Sentiment</th>\n",
       "      <th>Unnamed: 6</th>\n",
       "      <th>Unnamed: 7</th>\n",
       "      <th>Unnamed: 8</th>\n",
       "      <th>text</th>\n",
       "      <th>result</th>\n",
       "      <th>label</th>\n",
       "    </tr>\n",
       "  </thead>\n",
       "  <tbody>\n",
       "    <tr>\n",
       "      <th>8</th>\n",
       "      <td>3807</td>\n",
       "      <td>48759</td>\n",
       "      <td>Atlanta, GA USA</td>\n",
       "      <td>16-03-2020</td>\n",
       "      <td>Due to COVID-19 our retail store and classroom...</td>\n",
       "      <td>Positive</td>\n",
       "      <td>NaN</td>\n",
       "      <td>NaN</td>\n",
       "      <td>NaN</td>\n",
       "      <td>due to  our retail store and classroom in atla...</td>\n",
       "      <td>-2.344909</td>\n",
       "      <td>Negative</td>\n",
       "    </tr>\n",
       "    <tr>\n",
       "      <th>13</th>\n",
       "      <td>3812</td>\n",
       "      <td>48764</td>\n",
       "      <td>Chicago, IL</td>\n",
       "      <td>16-03-2020</td>\n",
       "      <td>Me: I don't need to stock up on food, I'll jus...</td>\n",
       "      <td>Positive</td>\n",
       "      <td>NaN</td>\n",
       "      <td>NaN</td>\n",
       "      <td>NaN</td>\n",
       "      <td>me i dont need to stock up on food ill just ha...</td>\n",
       "      <td>-1.239168</td>\n",
       "      <td>Negative</td>\n",
       "    </tr>\n",
       "    <tr>\n",
       "      <th>19</th>\n",
       "      <td>3818</td>\n",
       "      <td>48770</td>\n",
       "      <td>Denver, CO</td>\n",
       "      <td>16-03-2020</td>\n",
       "      <td>For those who aren't struggling, please consid...</td>\n",
       "      <td>Positive</td>\n",
       "      <td>NaN</td>\n",
       "      <td>NaN</td>\n",
       "      <td>NaN</td>\n",
       "      <td>for those who arent struggling please consider...</td>\n",
       "      <td>-0.397285</td>\n",
       "      <td>Neutral</td>\n",
       "    </tr>\n",
       "    <tr>\n",
       "      <th>28</th>\n",
       "      <td>3827</td>\n",
       "      <td>48779</td>\n",
       "      <td>New York, NY</td>\n",
       "      <td>16-03-2020</td>\n",
       "      <td>Do you see malicious price increases in NYC? T...</td>\n",
       "      <td>Negative</td>\n",
       "      <td>NaN</td>\n",
       "      <td>NaN</td>\n",
       "      <td>NaN</td>\n",
       "      <td>do you see malicious price increases in nyc th...</td>\n",
       "      <td>-0.043553</td>\n",
       "      <td>Neutral</td>\n",
       "    </tr>\n",
       "    <tr>\n",
       "      <th>29</th>\n",
       "      <td>3828</td>\n",
       "      <td>48780</td>\n",
       "      <td>Someplace, USA</td>\n",
       "      <td>16-03-2020</td>\n",
       "      <td>@7SealsOfTheEnd Soon with dwindling supplies u...</td>\n",
       "      <td>Extremely Negative</td>\n",
       "      <td>NaN</td>\n",
       "      <td>NaN</td>\n",
       "      <td>NaN</td>\n",
       "      <td>soon with dwindling supplies unlawful panicky...</td>\n",
       "      <td>0.537376</td>\n",
       "      <td>Positive</td>\n",
       "    </tr>\n",
       "  </tbody>\n",
       "</table>\n",
       "</div>"
      ],
      "text/plain": [
       "    UserName  ScreenName         Location     TweetAt  \\\n",
       "8       3807       48759  Atlanta, GA USA  16-03-2020   \n",
       "13      3812       48764      Chicago, IL  16-03-2020   \n",
       "19      3818       48770       Denver, CO  16-03-2020   \n",
       "28      3827       48779     New York, NY  16-03-2020   \n",
       "29      3828       48780   Someplace, USA  16-03-2020   \n",
       "\n",
       "                                        OriginalTweet           Sentiment  \\\n",
       "8   Due to COVID-19 our retail store and classroom...            Positive   \n",
       "13  Me: I don't need to stock up on food, I'll jus...            Positive   \n",
       "19  For those who aren't struggling, please consid...            Positive   \n",
       "28  Do you see malicious price increases in NYC? T...            Negative   \n",
       "29  @7SealsOfTheEnd Soon with dwindling supplies u...  Extremely Negative   \n",
       "\n",
       "   Unnamed: 6 Unnamed: 7 Unnamed: 8  \\\n",
       "8         NaN        NaN        NaN   \n",
       "13        NaN        NaN        NaN   \n",
       "19        NaN        NaN        NaN   \n",
       "28        NaN        NaN        NaN   \n",
       "29        NaN        NaN        NaN   \n",
       "\n",
       "                                                 text    result     label  \n",
       "8   due to  our retail store and classroom in atla... -2.344909  Negative  \n",
       "13  me i dont need to stock up on food ill just ha... -1.239168  Negative  \n",
       "19  for those who arent struggling please consider... -0.397285   Neutral  \n",
       "28  do you see malicious price increases in nyc th... -0.043553   Neutral  \n",
       "29   soon with dwindling supplies unlawful panicky...  0.537376  Positive  "
      ]
     },
     "execution_count": 67,
     "metadata": {},
     "output_type": "execute_result"
    }
   ],
   "source": [
    "data.head()"
   ]
  },
  {
   "cell_type": "markdown",
   "metadata": {},
   "source": [
    "Since it would be hard to understand the result value, it would be hard to divide them into five groups, especially the 'Extremely Positive' and 'Extremely Negative' groups, so We firstly divide them into 3 different groups: Positive, Neutral and Negative."
   ]
  },
  {
   "cell_type": "code",
   "execution_count": 57,
   "metadata": {
    "ExecuteTime": {
     "end_time": "2020-10-15T14:21:25.494046Z",
     "start_time": "2020-10-15T14:21:19.995182Z"
    }
   },
   "outputs": [],
   "source": [
    "data['result'] = result\n",
    "data['label'] = 0\n",
    "for i in data.index:\n",
    "    if data.loc[i,'result'] > 0.2:\n",
    "        data.loc[i,'label'] = 'Positive'\n",
    "    if data.loc[i,'result'] < 0.2 and data.loc[i,'result'] > -0.2:\n",
    "        data.loc[i,'label'] = 'Neutral'\n",
    "    if data.loc[i,'result'] < -0.2:\n",
    "        data.loc[i,'label'] = 'Negative'"
   ]
  },
  {
   "cell_type": "code",
   "execution_count": 58,
   "metadata": {
    "ExecuteTime": {
     "end_time": "2020-10-15T14:21:25.809774Z",
     "start_time": "2020-10-15T14:21:25.494046Z"
    }
   },
   "outputs": [],
   "source": [
    "count = 0\n",
    "for i in data.index:\n",
    "    if data.loc[i,'label']=='Positive' and data.loc[i,'Sentiment'] in ['Positive','Extremely Positive']:\n",
    "        count += 1\n",
    "    if data.loc[i,'label']=='Negative' and data.loc[i,'Sentiment'] in ['Negative','Extremely Negative']:\n",
    "        count += 1\n",
    "    if data.loc[i,'label']==data.loc[i,'Sentiment']:\n",
    "        count += 1\n",
    "acc = count/data.shape[0]"
   ]
  },
  {
   "cell_type": "markdown",
   "metadata": {},
   "source": [
    "we could find that when dealing with the 3 groups, the unsupervised model plays normally, having about 60% accuracy"
   ]
  },
  {
   "cell_type": "code",
   "execution_count": 59,
   "metadata": {
    "ExecuteTime": {
     "end_time": "2020-10-15T14:21:25.821743Z",
     "start_time": "2020-10-15T14:21:25.809774Z"
    }
   },
   "outputs": [
    {
     "data": {
      "text/plain": [
       "0.589364344586203"
      ]
     },
     "execution_count": 59,
     "metadata": {},
     "output_type": "execute_result"
    }
   ],
   "source": [
    "acc"
   ]
  },
  {
   "cell_type": "markdown",
   "metadata": {},
   "source": [
    "Then divide the groups into five different groups"
   ]
  },
  {
   "cell_type": "code",
   "execution_count": 60,
   "metadata": {
    "ExecuteTime": {
     "end_time": "2020-10-15T14:21:48.072971Z",
     "start_time": "2020-10-15T14:21:42.418047Z"
    }
   },
   "outputs": [],
   "source": [
    "data['result'] = result\n",
    "data['label'] = 0\n",
    "for i in data.index:\n",
    "    if data.loc[i,'result'] > 4:\n",
    "        data.loc[i,'label'] = 'Extremely Positive'\n",
    "    if data.loc[i,'result'] < 4 and data.loc[i,'result'] > 0.5:\n",
    "        data.loc[i,'label'] = 'Positive'\n",
    "    if data.loc[i,'result'] < 0.5 and data.loc[i,'result'] > -0.5:\n",
    "        data.loc[i,'label'] = 'Neutral'   \n",
    "    if data.loc[i,'result'] < -0.5 and data.loc[i,'result'] > -4:\n",
    "        data.loc[i,'label'] = 'Negative' \n",
    "    if data.loc[i,'result'] < -4:\n",
    "        data.loc[i,'label'] = 'Extremely Negative'"
   ]
  },
  {
   "cell_type": "code",
   "execution_count": 61,
   "metadata": {
    "ExecuteTime": {
     "end_time": "2020-10-15T14:21:48.213608Z",
     "start_time": "2020-10-15T14:21:48.072971Z"
    }
   },
   "outputs": [
    {
     "data": {
      "text/plain": [
       "0.21429377893191826"
      ]
     },
     "execution_count": 61,
     "metadata": {},
     "output_type": "execute_result"
    }
   ],
   "source": [
    "count = 0\n",
    "for i in data.index:\n",
    "    if data.loc[i,'label']==data.loc[i,'Sentiment']:\n",
    "        count += 1\n",
    "count/data.shape[0]"
   ]
  },
  {
   "cell_type": "markdown",
   "metadata": {
    "ExecuteTime": {
     "end_time": "2020-10-11T06:48:47.187483Z",
     "start_time": "2020-10-11T06:48:47.179503Z"
    }
   },
   "source": [
    "We could find that it is just like the guessing probabilty( I randomly select one group), and in the confusion matrix, the error shows up between 'Positive' and 'Extremely Positive', 'Negative' and 'Extremely Negative'"
   ]
  },
  {
   "cell_type": "markdown",
   "metadata": {},
   "source": [
    "# 1.7 The correlation between Crude Oil Price and Sentiment"
   ]
  },
  {
   "cell_type": "code",
   "execution_count": 4,
   "metadata": {
    "ExecuteTime": {
     "end_time": "2020-10-19T15:09:29.564808Z",
     "start_time": "2020-10-19T15:09:29.552193Z"
    }
   },
   "outputs": [],
   "source": [
    "NewCase = pd.read_csv('uscaseweekly.csv', encoding = 'utf-8')\n",
    "NewCase = NewCase[NewCase['weekly']>0]"
   ]
  },
  {
   "cell_type": "code",
   "execution_count": 5,
   "metadata": {
    "ExecuteTime": {
     "end_time": "2020-10-19T15:09:29.580811Z",
     "start_time": "2020-10-19T15:09:29.564808Z"
    }
   },
   "outputs": [],
   "source": [
    "OilPrice = pd.read_csv('Brent Oil.csv', encoding = 'utf-8')\n",
    "GLD =  pd.read_csv('GLD.csv', encoding = 'utf-8')"
   ]
  },
  {
   "cell_type": "code",
   "execution_count": 6,
   "metadata": {
    "ExecuteTime": {
     "end_time": "2020-10-19T15:09:29.630189Z",
     "start_time": "2020-10-19T15:09:29.583567Z"
    }
   },
   "outputs": [],
   "source": [
    "NewCase['OilPrice'] = OilPrice['Price'].values\n",
    "NewCase['GLD'] = GLD['Adj Close'].values"
   ]
  },
  {
   "cell_type": "code",
   "execution_count": 7,
   "metadata": {
    "ExecuteTime": {
     "end_time": "2020-10-19T15:09:29.661503Z",
     "start_time": "2020-10-19T15:09:29.630189Z"
    }
   },
   "outputs": [],
   "source": [
    "NewCase[\"Norm_Oil\"] = (NewCase[\"OilPrice\"]-np.mean(NewCase[\"OilPrice\"].values))/np.std(NewCase[\"OilPrice\"].values)\n",
    "NewCase[\"Norm_Case\"] = (NewCase[\"weekly\"]-np.mean(NewCase[\"weekly\"].values))/np.std(NewCase[\"weekly\"].values)\n",
    "NewCase[\"Norm_GLD\"] = (NewCase[\"GLD\"]-np.mean(NewCase[\"GLD\"].values))/np.std(NewCase[\"GLD\"].values)"
   ]
  },
  {
   "cell_type": "code",
   "execution_count": 18,
   "metadata": {
    "ExecuteTime": {
     "end_time": "2020-10-19T15:14:20.697413Z",
     "start_time": "2020-10-19T15:14:20.443564Z"
    }
   },
   "outputs": [
    {
     "data": {
      "image/png": "[encoded data removed]",
      "text/plain": [
       "<Figure size 432x288 with 1 Axes>"
      ]
     },
     "metadata": {
      "needs_background": "light"
     },
     "output_type": "display_data"
    }
   ],
   "source": [
    "plt.title(\"Relationship between Weekly cases and Oil Price\")\n",
    "plt.xlabel(\"weekly cases (thousand)\")\n",
    "plt.ylabel(\"Oil Price\")\n",
    "plt.scatter(NewCase[\"Norm_Case\"],NewCase[\"Norm_Oil\"])\n",
    "plt.show()"
   ]
  },
  {
   "cell_type": "code",
   "execution_count": 19,
   "metadata": {
    "ExecuteTime": {
     "end_time": "2020-10-19T15:14:21.481341Z",
     "start_time": "2020-10-19T15:14:21.253642Z"
    }
   },
   "outputs": [
    {
     "data": {
      "image/png": "[encoded data removed]",
      "text/plain": [
       "<Figure size 432x288 with 1 Axes>"
      ]
     },
     "metadata": {
      "needs_background": "light"
     },
     "output_type": "display_data"
    }
   ],
   "source": [
    "plt.title(\"Relationship between Weekly cases and GLD Price\")\n",
    "plt.scatter(NewCase[\"weekly\"]/1000,NewCase[\"GLD\"])\n",
    "plt.xlabel(\"weekly cases (thousand)\")\n",
    "plt.ylabel(\"GLD Price\")\n",
    "plt.show()"
   ]
  },
  {
   "cell_type": "code",
   "execution_count": 56,
   "metadata": {
    "ExecuteTime": {
     "end_time": "2020-10-19T13:36:51.423217Z",
     "start_time": "2020-10-19T13:36:51.385462Z"
    }
   },
   "outputs": [
    {
     "name": "stdout",
     "output_type": "stream",
     "text": [
      "                            GLS Regression Results                            \n",
      "==============================================================================\n",
      "Dep. Variable:               Norm_GLD   R-squared:                       0.631\n",
      "Model:                            GLS   Adj. R-squared:                  0.619\n",
      "Method:                 Least Squares   F-statistic:                     49.66\n",
      "Date:                Mon, 19 Oct 2020   Prob (F-statistic):           9.45e-08\n",
      "Time:                        21:36:51   Log-Likelihood:                -28.521\n",
      "No. Observations:                  31   AIC:                             61.04\n",
      "Df Residuals:                      29   BIC:                             63.91\n",
      "Df Model:                           1                                         \n",
      "Covariance Type:            nonrobust                                         \n",
      "==============================================================================\n",
      "                 coef    std err          t      P>|t|      [0.025      0.975]\n",
      "------------------------------------------------------------------------------\n",
      "Intercept  -2.571e-15      0.113  -2.28e-14      1.000      -0.231       0.231\n",
      "Norm_Case      0.7946      0.113      7.047      0.000       0.564       1.025\n",
      "==============================================================================\n",
      "Omnibus:                        1.273   Durbin-Watson:                   0.580\n",
      "Prob(Omnibus):                  0.529   Jarque-Bera (JB):                1.010\n",
      "Skew:                           0.187   Prob(JB):                        0.603\n",
      "Kurtosis:                       2.198   Cond. No.                         1.00\n",
      "==============================================================================\n",
      "\n",
      "Warnings:\n",
      "[1] Standard Errors assume that the covariance matrix of the errors is correctly specified.\n"
     ]
    }
   ],
   "source": [
    "import statsmodels.formula.api as smf\n",
    "model = smf.gls(\"Norm_GLD ~ Norm_Case\", data=NewCase).fit()\n",
    "print(model.summary())"
   ]
  },
  {
   "cell_type": "code",
   "execution_count": 57,
   "metadata": {
    "ExecuteTime": {
     "end_time": "2020-10-19T13:38:21.265180Z",
     "start_time": "2020-10-19T13:38:21.233937Z"
    }
   },
   "outputs": [
    {
     "name": "stdout",
     "output_type": "stream",
     "text": [
      "                            GLS Regression Results                            \n",
      "==============================================================================\n",
      "Dep. Variable:               Norm_Oil   R-squared:                       0.080\n",
      "Model:                            GLS   Adj. R-squared:                  0.048\n",
      "Method:                 Least Squares   F-statistic:                     2.509\n",
      "Date:                Mon, 19 Oct 2020   Prob (F-statistic):              0.124\n",
      "Time:                        21:38:21   Log-Likelihood:                -42.701\n",
      "No. Observations:                  31   AIC:                             89.40\n",
      "Df Residuals:                      29   BIC:                             92.27\n",
      "Df Model:                           1                                         \n",
      "Covariance Type:            nonrobust                                         \n",
      "==============================================================================\n",
      "                 coef    std err          t      P>|t|      [0.025      0.975]\n",
      "------------------------------------------------------------------------------\n",
      "Intercept   3.331e-16      0.178   1.87e-15      1.000      -0.364       0.364\n",
      "Norm_Case      0.2822      0.178      1.584      0.124      -0.082       0.647\n",
      "==============================================================================\n",
      "Omnibus:                        0.915   Durbin-Watson:                   0.214\n",
      "Prob(Omnibus):                  0.633   Jarque-Bera (JB):                0.314\n",
      "Skew:                          -0.230   Prob(JB):                        0.855\n",
      "Kurtosis:                       3.179   Cond. No.                         1.00\n",
      "==============================================================================\n",
      "\n",
      "Warnings:\n",
      "[1] Standard Errors assume that the covariance matrix of the errors is correctly specified.\n"
     ]
    }
   ],
   "source": [
    "model = smf.gls(\"Norm_Oil ~ Norm_Case\", data=NewCase).fit()\n",
    "print(model.summary())"
   ]
  },
  {
   "cell_type": "code",
   "execution_count": null,
   "metadata": {},
   "outputs": [],
   "source": []
  }
 ],
 "metadata": {
  "kernelspec": {
   "display_name": "Python 3",
   "language": "python",
   "name": "python3"
  },
  "language_info": {
   "codemirror_mode": {
    "name": "ipython",
    "version": 3
   },
   "file_extension": ".py",
   "mimetype": "text/x-python",
   "name": "python",
   "nbconvert_exporter": "python",
   "pygments_lexer": "ipython3",
   "version": "3.8.3"
  },
  "toc": {
   "base_numbering": 1,
   "nav_menu": {},
   "number_sections": true,
   "sideBar": true,
   "skip_h1_title": false,
   "title_cell": "Table of Contents",
   "title_sidebar": "Contents",
   "toc_cell": false,
   "toc_position": {},
   "toc_section_display": true,
   "toc_window_display": false
  }
 },
 "nbformat": 4,
 "nbformat_minor": 4
}
